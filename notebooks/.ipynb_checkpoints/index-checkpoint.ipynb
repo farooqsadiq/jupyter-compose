{
 "cells": [
  {
   "cell_type": "code",
   "execution_count": 1,
   "id": "5885b3b9",
   "metadata": {},
   "outputs": [
    {
     "name": "stdout",
     "output_type": "stream",
     "text": [
      "Test 433\n"
     ]
    }
   ],
   "source": [
    "print(\"Test 433\")"
   ]
  },
  {
   "cell_type": "code",
   "execution_count": null,
   "id": "b2f94629",
   "metadata": {},
   "outputs": [],
   "source": []
  }
 ],
 "metadata": {
  "kernelspec": {
   "display_name": "Python 3 (ipykernel)",
   "language": "python",
   "name": "python3"
  },
  "language_info": {
   "codemirror_mode": {
    "name": "ipython",
    "version": 3
   },
   "file_extension": ".py",
   "mimetype": "text/x-python",
   "name": "python",
   "nbconvert_exporter": "python",
   "pygments_lexer": "ipython3",
   "version": "3.9.5"
  }
 },
 "nbformat": 4,
 "nbformat_minor": 5
}
